{
 "cells": [
  {
   "cell_type": "code",
   "execution_count": 1,
   "metadata": {},
   "outputs": [],
   "source": [
    "import numpy as np\n",
    "import matplotlib.pyplot as plt\n",
    "import pandas as pd\n",
    "import glob as glob\n",
    "import Throughput_Photometry as tp\n",
    "from astropy.io import fits"
   ]
  },
  {
   "cell_type": "code",
   "execution_count": 2,
   "metadata": {},
   "outputs": [
    {
     "data": {
      "text/html": [
       "&lt;Column name=&apos;SG counts_sec&apos; dtype=&apos;float64&apos; length=1&gt;\n",
       "<table>\n",
       "<tr><td>613.0042764268666</td></tr>\n",
       "</table>"
      ],
      "text/plain": [
       "<Column name='SG counts_sec' dtype='float64' length=1>\n",
       "613.0042764268666"
      ]
     },
     "execution_count": 2,
     "metadata": {},
     "output_type": "execute_result"
    }
   ],
   "source": [
    "# Define the filter\n",
    "filter = 'SG'\n",
    "\n",
    "# Define path for the data\n",
    "path = '/Users/juliomorales/Library/CloudStorage/GoogleDrive-juliomorales1823@gmail.com/My Drive/Graduate School/Classes/Techniques in Observation/535_Data/'\n",
    "\n",
    "# Read in the standard star table\n",
    "standard_spec_table = pd.read_csv(path + 'spec_standards/spec_table.csv')\n",
    "\n",
    "# Read in the standard star spectrum\n",
    "standard_spec = pd.read_csv(path + 'spec_standards/mhr7596.csv', header = None)\n",
    "\n",
    "# Read in the filter response curve\n",
    "filter_response = pd.read_csv('SDSS_filters/SDSS_{}.dat'.format(filter[-1]), header = None, delimiter = ' ')\n",
    "\n",
    "# Collect spectroscopic standard files\n",
    "files = glob.glob(path + 'spec_standards/*median*{}*.fits'.format(filter))\n",
    "\n",
    "# Open data\n",
    "image  = fits.open(files[0])\n",
    "data   = np.float64(image[0].data)\n",
    "header = image[0].header\n",
    "\n",
    "# Define the FWHM\n",
    "fwhm = 4.5\n",
    "\n",
    "# Call on the module to calculate the throughput\n",
    "detector = tp.Detector(data, header, standard_spec, filter, filter_response, standard_spec_table, fwhm)\n",
    "\n",
    "# Calculate the throughput\n",
    "throughput = detector.throughput()\n",
    "throughput"
   ]
  }
 ],
 "metadata": {
  "kernelspec": {
   "display_name": "Python 3",
   "language": "python",
   "name": "python3"
  },
  "language_info": {
   "codemirror_mode": {
    "name": "ipython",
    "version": 3
   },
   "file_extension": ".py",
   "mimetype": "text/x-python",
   "name": "python",
   "nbconvert_exporter": "python",
   "pygments_lexer": "ipython3",
   "version": "3.10.10"
  }
 },
 "nbformat": 4,
 "nbformat_minor": 2
}
