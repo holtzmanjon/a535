{
  "cells": [
    {
      "cell_type": "code",
      "execution_count": null,
      "metadata": {
        "id": "5ZkJv4FCVxMu"
      },
      "outputs": [],
      "source": [
        "import numpy as np\n",
        "import matplotlib.pyplot as plt\n",
        "from astropy.modeling import models\n",
        "from astropy import units as u\n",
        "from astropy.constants import c,h\n",
        "from astropy.io import fits\n",
        "import pandas as pd\n",
        "from scipy import integrate\n",
        "\n",
        "#Convert c and h to cgs\n",
        "c = c.cgs\n",
        "h = h.cgs"
      ]
    },
    {
      "cell_type": "markdown",
      "metadata": {
        "id": "PvcPI3U90-vN"
      },
      "source": [
        "# 1.)\n",
        "\n",
        "## Source Object"
      ]
    },
    {
      "cell_type": "code",
      "execution_count": null,
      "metadata": {
        "id": "7lcLP3o2dUe7"
      },
      "outputs": [],
      "source": [
        "class Source:\n",
        "\n",
        "    def __init__(self,name,mag):\n",
        "        \"\"\"Instantiation of the Source.\n",
        "\n",
        "        This function initializes the Source class and all parameters concerning it\n",
        "\n",
        "        Ex:\n",
        "            Source(\"Vega\")\n",
        "\n",
        "        Args:\n",
        "            None\n",
        "\n",
        "        \"\"\"\n",
        "        self.name = name\n",
        "        self.mag = mag\n",
        "\n",
        "        #Need to set object's SED and magnitude here. Not sure how.\n",
        "\n",
        "\n",
        "\n",
        "    def photon_flux(self,type, T, lam):\n",
        "        \"\"\" Determines photon flux at given wavelength of the source\n",
        "\n",
        "        Takes type (e.g. blackbody), temperature (if blackbody), and wavelength and\n",
        "        returns flux\n",
        "\n",
        "        Parameters\n",
        "        ----------\n",
        "        type: String for source type (\"blackbody\" or \"###\")\n",
        "        T: Temperature in K for use ONLY when type is \"blackbody\"\n",
        "        lam: wavelength in angstroms\n",
        "\n",
        "        Returns\n",
        "        -------\n",
        "        f_photon: Photon flux\n",
        "        \"\"\"\n",
        "\n",
        "        #Attach units of angstroms to lam\n",
        "        lam = lam * u.AA\n",
        "        nu = c/lam\n",
        "\n",
        "        if(type == \"Blackbody\"):\n",
        "            F = models.BlackBody(T*u.K)\n",
        "            f_lam = F(lam)*(nu**2)/(c*1e8)\n",
        "            f_lam = f_lam*(u.erg**-1)*(u.AA**2)*u.cm*u.hertz*u.sr*(u.s**2)\n",
        "        else:\n",
        "            f_lam = 0\n",
        "\n",
        "        #Convert to photon flux\n",
        "        f_photon = (f_lam*lam/(h*c))*10**(-0.4*self.mag)\n",
        "\n",
        "        return(f_photon)"
      ]
    },
    {
      "cell_type": "markdown",
      "metadata": {
        "id": "5898X5_d1Fph"
      },
      "source": [
        "# 2.)\n",
        "\n",
        "## Atmosphere Object"
      ]
    },
    {
      "cell_type": "code",
      "execution_count": null,
      "metadata": {
        "id": "gaensaiAz3rp"
      },
      "outputs": [],
      "source": [
        "class Atmosphere:\n",
        "\n",
        "    def __init__(self,name):\n",
        "        \"\"\"Instantiation of the Atmosphere.\n",
        "\n",
        "        This function initializes the Atmosphere class and all parameters concerning it\n",
        "\n",
        "        Args:\n",
        "            None\n",
        "\n",
        "        \"\"\"\n",
        "        self.name = name\n",
        "        self.a_lam = 0.8\n",
        "\n",
        "    def calcSky(self,fileName,filtLow,filtHigh,area,plateScale):\n",
        "        \"\"\" Calculate sky background level.\n",
        "\n",
        "        This function takes a sky spectrum fits file name and filter bounds\n",
        "        and returns the sky background flux\n",
        "\n",
        "        Parameters\n",
        "        ----------\n",
        "        fileName: fits file in same dir as script\n",
        "        area: telescope area\n",
        "        plateScale: plateScale of detector (arcsec/pix)\n",
        "\n",
        "        Returns\n",
        "        -------\n",
        "        fSky: sky flux\n",
        "        \"\"\"\n",
        "\n",
        "        #Import fits file containing sky spectrum\n",
        "        sky = fits.open(fileName)\n",
        "        sky_array = pd.DataFrame(sky[1].data)\n",
        "        lamTot = sky_array['lam'] * 10 #Convert to AA\n",
        "        fluxTot = sky_array['flux'] * 1e-4 #convert to 1/AA\n",
        "\n",
        "        #Remove wavelengths and fluxes outside of filter\n",
        "        lam = lamTot[(lamTot<filtHigh) == True]\n",
        "        flux = fluxTot[(lamTot<filtHigh) == True]\n",
        "        flux = flux[(lam>filtLow) == True]\n",
        "        lam = lam[(lam>filtLow) == True]\n",
        "\n",
        "        #Change flux from photon/s/m^2/um/arcsec to photon/s/um/pix\n",
        "        flux = flux*(area*1e-4)*(plateScale**2)\n",
        "\n",
        "        #Compute the total flux\n",
        "        fSky = integrate.simps(y=flux,x=lam)\n",
        "\n",
        "        return(fSky)\n",
        "\n"
      ]
    },
    {
      "cell_type": "markdown",
      "metadata": {
        "id": "xVLIA2n_1Nhu"
      },
      "source": [
        "# 3.)\n",
        "\n",
        "## Telescope Object"
      ]
    },
    {
      "cell_type": "code",
      "execution_count": null,
      "metadata": {
        "id": "arFTRCtOz6Fg"
      },
      "outputs": [],
      "source": [
        "class Telescope:\n",
        "\n",
        "    def __init__(self,name,diameter):\n",
        "        \"\"\"Instantiation of the Telescope.\n",
        "\n",
        "        This function initializes the Telescope class and all parameters concerning it\n",
        "\n",
        "        Ex:\n",
        "            Source(\"TMO\")\n",
        "\n",
        "        Args:\n",
        "            name: string\n",
        "            diameter: objective diameter in cm\n",
        "\n",
        "        \"\"\"\n",
        "\n",
        "        self.name = name\n",
        "        self.diameter = diameter\n",
        "        self.area = (np.pi/4)*diameter**2\n",
        "        self.m_lam = 0.5**(1/3)\n",
        "\n",
        "\n",
        "########################### DETECTOR CLASS #####################################\n",
        "\n",
        "class Detector:\n",
        "\n",
        "    def __init__(self,name,plateScale,sig_rn):\n",
        "        \"\"\"Instantiation of the Detector.\n",
        "\n",
        "        This function initializes the Detector class and all parameters concerning it\n",
        "\n",
        "        Ex:\n",
        "            Source(\"CCD\")\n",
        "\n",
        "        Args:\n",
        "            None\n",
        "\n",
        "        \"\"\"\n",
        "        self.name = name\n",
        "        self.d_lam = 0.5**(1/3)\n",
        "\n",
        "        #Set plate scale\n",
        "        self.plateScale = plateScale #arcsec/pix TBD\n",
        "\n",
        "        #Set readout noise\n",
        "        self.sig_rn = sig_rn"
      ]
    },
    {
      "cell_type": "markdown",
      "metadata": {
        "id": "JGtgC6REqidF"
      },
      "source": [
        "# 4.)\n",
        "\n",
        "## Instrument Object"
      ]
    },
    {
      "cell_type": "code",
      "execution_count": null,
      "metadata": {
        "id": "PlfrEA2sqrQA"
      },
      "outputs": [],
      "source": [
        "class Instrument:\n",
        "\n",
        "    def __init__(self,name):\n",
        "        \"\"\"Instantiation of the Instrument.\n",
        "\n",
        "        This function initializes the Instrument class and all parameters concerning it\n",
        "\n",
        "        Ex:\n",
        "            Source(\"TMO\")\n",
        "\n",
        "        Args:\n",
        "            None\n",
        "\n",
        "        \"\"\"\n",
        "        self.name = name\n",
        "        self.i_lam = 0.5**(1/3)"
      ]
    },
    {
      "cell_type": "markdown",
      "metadata": {
        "id": "-5S_B5kQq_-8"
      },
      "source": [
        "# 5.)\n",
        "\n",
        "## Filter Object"
      ]
    },
    {
      "cell_type": "code",
      "execution_count": null,
      "metadata": {
        "id": "Hk_roYmErLbz"
      },
      "outputs": [],
      "source": [
        "class Filter:\n",
        "\n",
        "    def __init__(self,name):\n",
        "        \"\"\"Instantiation of the Filter.\n",
        "\n",
        "        This function initializes the Filter class and all parameters concerning it\n",
        "\n",
        "        Ex:\n",
        "            Source(\"V\")\n",
        "\n",
        "        Args:\n",
        "            None\n",
        "\n",
        "        \"\"\"\n",
        "        self.name = name\n",
        "\n",
        "        #Define lower and upper wavelength bounds\n",
        "        if(name==\"V\"):\n",
        "            self.lower = 5500-850/2\n",
        "            self.higher = 5500+850/2\n",
        "\n",
        "    def response(self, band, lam):\n",
        "        \"\"\" Determines filter response\n",
        "\n",
        "        Takes wavelength and returns filter response\n",
        "\n",
        "        Parameters\n",
        "        ----------\n",
        "        lam:  wavelength in angstroms\n",
        "\n",
        "        Returns\n",
        "        -------\n",
        "        f_lam: filter response\n",
        "        \"\"\"\n",
        "\n",
        "        i_lam = 0\n",
        "\n",
        "\n",
        "        if(lam>=self.lower and lam<=self.higher):\n",
        "            i_lam = 0.8\n",
        "\n",
        "\n",
        "        return(i_lam)"
      ]
    },
    {
      "cell_type": "markdown",
      "metadata": {
        "id": "53MqAuofsZlr"
      },
      "source": [
        "# 6.)\n",
        "\n",
        "## Signal Calculation"
      ]
    },
    {
      "cell_type": "code",
      "execution_count": null,
      "metadata": {
        "colab": {
          "base_uri": "https://localhost:8080/"
        },
        "id": "Kwik4cFes8nd",
        "outputId": "0efaba9a-e4ca-48ae-dc7a-ef4dcc3f82a4"
      },
      "outputs": [
        {
          "output_type": "stream",
          "name": "stdout",
          "text": [
            "The signal for: \n",
            " \t-A Star of magnitude 30\n",
            " \t-SED that is a blackbody of T = 6000 K\n",
            " \t-Telescope of diamater 30 cm\n",
            " \t-In the V-band\n",
            " \t-With constant atmosphere, instrumental, and mirror transmissions\n",
            " \t-With constant detector response\n",
            " = 2.300522738839605 photons/s/cm^2\n",
            "\n"
          ]
        }
      ],
      "source": [
        "#Create range of wavelengths\n",
        "lam = np.arange(3000,7500,1)\n",
        "\n",
        "#Initialize the classes\n",
        "src = Source(\"Vega\",30)\n",
        "atm = Atmosphere(\"earth\")\n",
        "tel = Telescope(\"TMO\", 30)\n",
        "ins = Instrument(\"TMO\")\n",
        "det = Detector(\"CCD\",0.5,1)\n",
        "fil = Filter(\"V\")\n",
        "\n",
        "#Integrate over wavelengths\n",
        "F_lam = src.photon_flux(\"Blackbody\", 6000 ,lam)\n",
        "a_lam = atm.a_lam\n",
        "m_lam = tel.m_lam\n",
        "i_lam = ins.i_lam\n",
        "\n",
        "f_lam = []\n",
        "for i in range(len(lam)):\n",
        "    f_lam.append(fil.response(\"V\",lam[i]))\n",
        "\n",
        "d_lam = det.d_lam\n",
        "T = tel.area\n",
        "\n",
        "Sprime = F_lam*a_lam*m_lam*i_lam*f_lam*d_lam\n",
        "S = integrate.simps(y=Sprime,x=lam)\n",
        "\n",
        "print(\"The signal for: \\n\",\n",
        "        \"\\t-A Star of magnitude 30\\n\",\n",
        "        \"\\t-SED that is a blackbody of T = 6000 K\\n\",\n",
        "        \"\\t-Telescope of diamater 30 cm\\n\",\n",
        "        \"\\t-In the V-band\\n\",\n",
        "        \"\\t-With constant atmosphere, instrumental, and mirror transmissions\\n\",\n",
        "        \"\\t-With constant detector response\\n\",\n",
        "        \"= {} photons/s/cm^2\\n\".format(S))"
      ]
    },
    {
      "cell_type": "markdown",
      "metadata": {
        "id": "sNcTQyEw7ko1"
      },
      "source": [
        "# Exposure Calculator II"
      ]
    },
    {
      "cell_type": "code",
      "execution_count": null,
      "metadata": {
        "id": "CWB4PPl3sb09"
      },
      "outputs": [],
      "source": [
        "class Signal:\n",
        "\n",
        "    def __init__(self,name,T,F,sig_rn,Npix,B):\n",
        "        \"\"\"Instantiation of the Signal being collected.\n",
        "\n",
        "        This function initializes the Signal class and all parameters concerning it\n",
        "\n",
        "        Args:\n",
        "          name: name for signal\n",
        "          T: telescope area\n",
        "          F: photon flux either over bandpass or at wavelength\n",
        "          a_lam: atmospheric transmission per wavelength\n",
        "          m_lam: mirror throughput per wavelength\n",
        "          i_lam: instrumental throughput per wavelength\n",
        "          f_lam: filter throughput per wavlength\n",
        "          d_lam: detector response per wavlength\n",
        "          sig_rn: readout noise per pixel\n",
        "          Npix: number of pixels from aperture size\n",
        "          B: sky background signal (photon/s/pix)\n",
        "\n",
        "        \"\"\"\n",
        "        self.name = name\n",
        "        self.T = T\n",
        "        self.F = F\n",
        "        self.sig_rn = sig_rn\n",
        "        self.Npix = Npix\n",
        "        self.B = B\n",
        "\n",
        "\n",
        "    def SNR(self,t):\n",
        "        \"\"\" Determines signal to noise ratio\n",
        "\n",
        "        Takes type of detector, throughput/transmission terms, wavelenghts, and\n",
        "        exposure time and returns SNR\n",
        "\n",
        "        Parameters\n",
        "        ----------\n",
        "        t: exposure time\n",
        "\n",
        "        Returns\n",
        "        -------\n",
        "        SNR: signal to noise ratio (either single value or array)\n",
        "        \"\"\"\n",
        "\n",
        "        #Compute SNR\n",
        "        SNR = self.F*self.T*t/np.sqrt(self.F*self.T*t + self.B*self.T*t*self.Npix + self.Npix*self.sig_rn**2)\n",
        "\n",
        "\n",
        "        return(SNR)\n",
        "\n",
        "    def exp_time(self,SNR):\n",
        "        \"\"\" Determines exposure time ratio\n",
        "\n",
        "        Takes type of detector, throughput/transmission terms, wavelengths, and\n",
        "        SNR and returns exposure time\n",
        "\n",
        "        Parameters\n",
        "        ----------\n",
        "        lam:  wavelength in angstroms\n",
        "        SNR: signal to noise ratio (either single value or array)\n",
        "\n",
        "        Returns\n",
        "        -------\n",
        "        t: exposure time\n",
        "        \"\"\"\n",
        "\n",
        "        #Solve for signal using quadratic formula\n",
        "        a = (self.F*SNR)**-2\n",
        "        b = -(self.F + self.B*self.Npix)\n",
        "        c = -self.Npix*self.sig_rn**2\n",
        "        t = ((-b + np.sqrt(b**2 - 4*a*c))/(2*a))/self.T #Always take positive value\n",
        "\n",
        "        return(t)\n"
      ]
    },
    {
      "cell_type": "markdown",
      "metadata": {
        "id": "FcgM2B1SNdmL"
      },
      "source": [
        "# Exposure Calculator III\n",
        "\n",
        "Test sky background calculation and SNR/Exposure Time calculation"
      ]
    },
    {
      "cell_type": "code",
      "execution_count": null,
      "metadata": {
        "id": "rRUjX_n8uNRG"
      },
      "outputs": [],
      "source": [
        "#Test calcSky\n",
        "B = atm.calcSky('sky_0.0.fits',fil.lower,fil.higher,tel.area,det.plateScale)\n",
        "\n",
        "sig = Signal('test',tel.area,S,det.sig_rn,30,B)\n",
        "\n",
        "#Calculate SNR for 10 sec exposure\n",
        "SNR = sig.SNR(10)\n",
        "\n",
        "#Calculate exposure time for SNR = 50\n",
        "t = sig.exp_time(50)"
      ]
    },
    {
      "cell_type": "code",
      "execution_count": null,
      "metadata": {
        "id": "lgc-r81q0Qv5",
        "colab": {
          "base_uri": "https://localhost:8080/"
        },
        "outputId": "36cc11ed-46a3-4996-ce9e-6f553b716306"
      },
      "outputs": [
        {
          "output_type": "stream",
          "name": "stdout",
          "text": [
            "The SNR for a 10 second exposure is: 55.66157744639027\n",
            "\n",
            "The exposure time to achieve an SNR of 50 is: 225.93795355328618 sec\n",
            "\n"
          ]
        }
      ],
      "source": [
        "print(\"The SNR for a 10 second exposure is: {}\\n\".format(SNR))\n",
        "\n",
        "print(\"The exposure time to achieve an SNR of 50 is: {} sec\\n\".format(t))"
      ]
    },
    {
      "cell_type": "code",
      "execution_count": null,
      "metadata": {
        "id": "C5n3vxtMNdmM"
      },
      "outputs": [],
      "source": []
    }
  ],
  "metadata": {
    "colab": {
      "provenance": []
    },
    "kernelspec": {
      "display_name": "Python 3",
      "language": "python",
      "name": "python3"
    },
    "language_info": {
      "codemirror_mode": {
        "name": "ipython",
        "version": 3
      },
      "file_extension": ".py",
      "mimetype": "text/x-python",
      "name": "python",
      "nbconvert_exporter": "python",
      "pygments_lexer": "ipython3",
      "version": "3.7.4"
    }
  },
  "nbformat": 4,
  "nbformat_minor": 0
}