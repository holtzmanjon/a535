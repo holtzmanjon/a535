{
  "nbformat": 4,
  "nbformat_minor": 0,
  "metadata": {
    "colab": {
      "provenance": []
    },
    "kernelspec": {
      "name": "python3",
      "display_name": "Python 3"
    },
    "language_info": {
      "name": "python"
    }
  },
  "cells": [
    {
      "cell_type": "code",
      "execution_count": null,
      "metadata": {
        "id": "5ZkJv4FCVxMu"
      },
      "outputs": [],
      "source": [
        "import numpy as np\n",
        "import matplotlib.pyplot as plt\n",
        "from astropy.modeling import models\n",
        "from astropy import units as u\n",
        "from astropy.constants import c,h\n",
        "\n",
        "#Convert c and h to cgs\n",
        "c = c.cgs\n",
        "h = h.cgs"
      ]
    },
    {
      "cell_type": "markdown",
      "source": [
        "#1.)\n",
        "\n",
        "##Source Object"
      ],
      "metadata": {
        "id": "PvcPI3U90-vN"
      }
    },
    {
      "cell_type": "code",
      "source": [
        "class Source:\n",
        "\n",
        "  def __init__(self,name):\n",
        "    \"\"\"Instantiation of the Source.\n",
        "\n",
        "    This function initializes the Source class and all parameters concerning it\n",
        "\n",
        "    Ex:\n",
        "        Source(\"Vega\")\n",
        "\n",
        "    Args:\n",
        "        None\n",
        "\n",
        "    \"\"\"\n",
        "    self.name = name\n",
        "\n",
        "    #Need to set object's SED and magnitude here. Not sure how.\n",
        "\n",
        "\n",
        "\n",
        "  def photon_flux(self,type, T, lam):\n",
        "    \"\"\" Determines photon flux at given wavelength of the source\n",
        "\n",
        "    Takes type (e.g. blackbody), temperature (if blackbody), and wavelength and\n",
        "    returns flux\n",
        "\n",
        "    Parameters\n",
        "    ----------\n",
        "    type: String for source type (\"blackbody\" or \"###\")\n",
        "    T: Temperature in K for use ONLY when type is \"blackbody\"\n",
        "    lam: wavelength in angstroms\n",
        "\n",
        "    Returns\n",
        "    -------\n",
        "    f_photon: Photon flux\n",
        "    \"\"\"\n",
        "\n",
        "    #Attach units of angstroms to lam\n",
        "    lam = lam * u.AA\n",
        "    nu = c/lam\n",
        "\n",
        "    if(type == \"Blackbody\"):\n",
        "      F = models.BlackBody(T*u.K)\n",
        "      f_lam = F(lam)*(nu**2)/(c*1e8*u.AA/u.cm) #Convert from 1/Hz => 1/AA\n",
        "    else:\n",
        "      f_lam = 0\n",
        "\n",
        "    #Convert to photon flux\n",
        "    f_photon = f_lam*lam/(h*c)\n",
        "    #NEED TO ASK: Normalize to brightness? Does the photon flux over all wavelengths\n",
        "    #need to integrate to 1??\n",
        "\n",
        "    return(f_photon)"
      ],
      "metadata": {
        "id": "7lcLP3o2dUe7"
      },
      "execution_count": null,
      "outputs": []
    },
    {
      "cell_type": "markdown",
      "source": [
        "#2.)\n",
        "\n",
        "##Atmosphere Object"
      ],
      "metadata": {
        "id": "5898X5_d1Fph"
      }
    },
    {
      "cell_type": "code",
      "source": [
        "class Atmosphere:\n",
        "\n",
        "  def __init__(self,name):\n",
        "    \"\"\"Instantiation of the Atmosphere.\n",
        "\n",
        "    This function initializes the Atmosphere class and all parameters concerning it\n",
        "\n",
        "    Args:\n",
        "        None\n",
        "\n",
        "    \"\"\"\n",
        "    self.name = name\n",
        "    \"\"\"\n",
        "    if (name==\"constant\"):\n",
        "      a_lam = 0.8\n",
        "    #NEED TO ASK: How to define parameters in the __init__ function\n",
        "  \"\"\"\n",
        "\n",
        "  def transmission(self, lam):\n",
        "      \"\"\" Determines atmospheric transmission at given wavelength of the source\n",
        "\n",
        "      Takes wavelength and returns tranmission coefficient\n",
        "\n",
        "      Parameters\n",
        "      ----------\n",
        "      lam: wavelength in angstroms\n",
        "\n",
        "      Returns\n",
        "      -------\n",
        "      a_lam: Atmospheric tranmission function value [0,1]\n",
        "      \"\"\"\n",
        "\n",
        "      #Assume constant for now\n",
        "      a_lam = 0.8\n",
        "\n",
        "      return(a_lam)\n"
      ],
      "metadata": {
        "id": "gaensaiAz3rp"
      },
      "execution_count": null,
      "outputs": []
    },
    {
      "cell_type": "markdown",
      "source": [
        "#3.)\n",
        "\n",
        "##Telescope Object"
      ],
      "metadata": {
        "id": "xVLIA2n_1Nhu"
      }
    },
    {
      "cell_type": "code",
      "source": [
        "class Telescope:\n",
        "\n",
        "  def __init__(self,name):\n",
        "    \"\"\"Instantiation of the Telescope.\n",
        "\n",
        "    This function initializes the Telescope class and all parameters concerning it\n",
        "\n",
        "    Ex:\n",
        "        Source(\"TMO\")\n",
        "\n",
        "    Args:\n",
        "        None\n",
        "\n",
        "    \"\"\"\n",
        "    self.name = name\n",
        "\n",
        "  def area(self, diam):\n",
        "      \"\"\" Determines telescope objective area\n",
        "\n",
        "      Takes diameter and returns objective area\n",
        "\n",
        "      Parameters\n",
        "      ----------\n",
        "      diam: diameter in cm\n",
        "\n",
        "      Returns\n",
        "      -------\n",
        "      area: objective area in cm^2\n",
        "      \"\"\"\n",
        "\n",
        "      return(np.pi*(1/4)*(diam)**2)\n",
        "\n",
        "  def throughput(self, name, lam):\n",
        "      \"\"\" Determines telescope throughput\n",
        "\n",
        "      Takes telescope name and wavelength and returns throughput\n",
        "\n",
        "      Parameters\n",
        "      ----------\n",
        "      name: string of telescope name\n",
        "      lam: wavelength in angstroms\n",
        "\n",
        "      Returns\n",
        "      -------\n",
        "      m_lam: telescope throughput at lambda\n",
        "      \"\"\"\n",
        "\n",
        "      if(name == \"TMO\"):\n",
        "        m_lam = 0.5**(1/3)\n",
        "\n",
        "      return(m_lam)\n",
        "\n",
        "\n",
        "########################### DETECTOR CLASS #####################################\n",
        "\n",
        "class Detector:\n",
        "\n",
        "  def __init__(self,name):\n",
        "    \"\"\"Instantiation of the Detector.\n",
        "\n",
        "    This function initializes the Detector class and all parameters concerning it\n",
        "\n",
        "    Ex:\n",
        "        Source(\"CCD\")\n",
        "\n",
        "    Args:\n",
        "        None\n",
        "\n",
        "    \"\"\"\n",
        "    self.name = name\n",
        "\n",
        "  def response(self, lam):\n",
        "      \"\"\" Determines detectore response\n",
        "\n",
        "      Takes wavelength and returns detector response\n",
        "\n",
        "      Parameters\n",
        "      ----------\n",
        "      lam: wavelength in angstroms\n",
        "\n",
        "      Returns\n",
        "      -------\n",
        "      d_lam: detector response\n",
        "      \"\"\"\n",
        "\n",
        "      d_lam = 0.5**(1/3)\n",
        "\n",
        "      return(d_lam)"
      ],
      "metadata": {
        "id": "arFTRCtOz6Fg"
      },
      "execution_count": null,
      "outputs": []
    },
    {
      "cell_type": "markdown",
      "source": [
        "#4.)\n",
        "\n",
        "##Instrument Object"
      ],
      "metadata": {
        "id": "JGtgC6REqidF"
      }
    },
    {
      "cell_type": "code",
      "source": [
        "class Instrument:\n",
        "\n",
        "  def __init__(self,name):\n",
        "    \"\"\"Instantiation of the Instrument.\n",
        "\n",
        "    This function initializes the Instrument class and all parameters concerning it\n",
        "\n",
        "    Ex:\n",
        "        Source(\"TMO\")\n",
        "\n",
        "    Args:\n",
        "        None\n",
        "\n",
        "    \"\"\"\n",
        "    self.name = name\n",
        "\n",
        "  def transmission(self, lam):\n",
        "      \"\"\" Determines instrument transmission\n",
        "\n",
        "      Takes wavelength and returns instrument transmission\n",
        "\n",
        "      Parameters\n",
        "      ----------\n",
        "      lam: wavelength in angstroms\n",
        "\n",
        "      Returns\n",
        "      -------\n",
        "      i_lam: instrument transmission\n",
        "      \"\"\"\n",
        "\n",
        "      i_lam = 0.5**(1/3)\n",
        "\n",
        "      return(i_lam)"
      ],
      "metadata": {
        "id": "PlfrEA2sqrQA"
      },
      "execution_count": null,
      "outputs": []
    },
    {
      "cell_type": "markdown",
      "source": [
        "#5.)\n",
        "\n",
        "##Filter Object"
      ],
      "metadata": {
        "id": "-5S_B5kQq_-8"
      }
    },
    {
      "cell_type": "code",
      "source": [
        "class Filter:\n",
        "\n",
        "  def __init__(self,name):\n",
        "    \"\"\"Instantiation of the Filter.\n",
        "\n",
        "    This function initializes the Filter class and all parameters concerning it\n",
        "\n",
        "    Ex:\n",
        "        Source(\"V\")\n",
        "\n",
        "    Args:\n",
        "        None\n",
        "\n",
        "    \"\"\"\n",
        "    self.name = name\n",
        "\n",
        "  def response(self, band, lam):\n",
        "      \"\"\" Determines filter response\n",
        "\n",
        "      Takes wavelength and returns filter response\n",
        "\n",
        "      Parameters\n",
        "      ----------\n",
        "      band: string indicating band pass\n",
        "      lam:  wavelength in angstroms\n",
        "\n",
        "      Returns\n",
        "      -------\n",
        "      f_lam: filter response\n",
        "      \"\"\"\n",
        "\n",
        "      i_lam = 0\n",
        "\n",
        "      if(band==\"V\"):\n",
        "        lower = 5500-850/2\n",
        "        higher = 5500+850/2\n",
        "        if(lam>=lower and lam<=higher):\n",
        "          i_lam = 0.8\n",
        "\n",
        "\n",
        "      return(i_lam)"
      ],
      "metadata": {
        "id": "Hk_roYmErLbz"
      },
      "execution_count": null,
      "outputs": []
    },
    {
      "cell_type": "markdown",
      "source": [
        "#6.)\n",
        "\n",
        "##Signal Calculation"
      ],
      "metadata": {
        "id": "53MqAuofsZlr"
      }
    },
    {
      "cell_type": "code",
      "source": [
        "#Create range of wavelengths\n",
        "lam = np.arange(3000,7500,1)\n",
        "\n",
        "#Initialize signal\n",
        "S = 0\n",
        "\n",
        "#Initialize the classes\n",
        "src = Source(\"Vega\")\n",
        "atm = Atmosphere(\"earth\")\n",
        "tel = Telescope(\"TMO\")\n",
        "ins = Instrument(\"TMO\")\n",
        "det = Detector(\"CCD\")\n",
        "fil = Filter(\"V\")\n",
        "\n",
        "#Integrate over wavelengths\n",
        "#for i in range(len(lam)):\n",
        "F_lam = src.photon_flux(\"Blackbody\", 6000 ,lam)\n",
        "a_lam = atm.transmission(lam)\n",
        "m_lam = tel.throughput(\"TMO\",lam)\n",
        "i_lam = ins.transmission(lam)\n",
        "\n",
        "f_lam = []\n",
        "for i in range(len(lam)):\n",
        "  f_lam.append(fil.response(\"V\",lam[i]))\n",
        "\n",
        "d_lam = det.response(lam)\n",
        "T = tel.area(60)\n",
        "\n",
        "S = np.sum(T*F_lam*a_lam*m_lam*i_lam*f_lam*d_lam)"
      ],
      "metadata": {
        "id": "Kwik4cFes8nd"
      },
      "execution_count": null,
      "outputs": []
    },
    {
      "cell_type": "markdown",
      "source": [
        "# Exposure Calculator II"
      ],
      "metadata": {
        "id": "sNcTQyEw7ko1"
      }
    },
    {
      "cell_type": "code",
      "source": [
        "class Signal:\n",
        "\n",
        "  def __init__(self,name):\n",
        "    \"\"\"Instantiation of the Signal being collected.\n",
        "\n",
        "    This function initializes the Signal class and all parameters concerning it\n",
        "\n",
        "    Ex:\n",
        "        Source(\"photometer\")\n",
        "\n",
        "    Args:\n",
        "        None\n",
        "\n",
        "    \"\"\"\n",
        "    self.name = name\n",
        "\n",
        "  def SNR(self,type,lam,T,F_lam,a_lam,m_lam,i_lam,f_lam,d_lam,t,sig_rn,Npix):\n",
        "      \"\"\" Determines signal to noise ratio\n",
        "\n",
        "      Takes type of detector, throughput/transmission terms, wavelenghts, and\n",
        "      exposure time and returns SNR\n",
        "\n",
        "      Parameters\n",
        "      ----------\n",
        "      type: type of detector (e.g. photometer or spectrograph)\n",
        "      lam:  wavelength in angstroms\n",
        "      T: telescope area\n",
        "      F_lam: photon flux per wavelength\n",
        "      a_lam: atmospheric transmission per wavelength\n",
        "      m_lam: mirror throughput per wavelength\n",
        "      i_lam: instrumental throughput per wavelength\n",
        "      f_lam: filter throughput per wavlength\n",
        "      d_lam: detector response per wavlength\n",
        "      t: exposure time\n",
        "      sig_rn: readout noise per pixel\n",
        "      Npix: number of pixels from aperture size\n",
        "\n",
        "      Returns\n",
        "      -------\n",
        "      SNR: signal to noise ratio (either single value or array)\n",
        "      \"\"\"\n",
        "\n",
        "      if (type == \"photometer\"):\n",
        "        #Compute signal\n",
        "        S = np.sum(T*t*F_lam*a_lam*m_lam*i_lam*f_lam*d_lam)\n",
        "\n",
        "      elif (type == \"spectrograph\"):\n",
        "        #Compute individual signals\n",
        "        S = T*t*F_lam*a_lam*m_lam*i_lam*f_lam*d_lam\n",
        "\n",
        "      else:\n",
        "        S = 0\n",
        "\n",
        "      #Compute SNR\n",
        "      SNR = S/np.sqrt(S + Npix*sig_rn**2)\n",
        "\n",
        "\n",
        "      return(SNR)\n",
        "\n",
        "def exp_time(self,type,lam,T,F_lam,a_lam,m_lam,i_lam,f_lam,d_lam,SNR,sig_rn,Npix):\n",
        "      \"\"\" Determines exposure time ratio\n",
        "\n",
        "      Takes type of detector, throughput/transmission terms, wavelengths, and\n",
        "      SNR and returns exposure time\n",
        "\n",
        "      Parameters\n",
        "      ----------\n",
        "      type: type of detector (e.g. photometer or spectrograph)\n",
        "      lam:  wavelength in angstroms\n",
        "      T: telescope area\n",
        "      F_lam: photon flux per wavelength\n",
        "      a_lam: atmospheric transmission per wavelength\n",
        "      m_lam: mirror throughput per wavelength\n",
        "      i_lam: instrumental throughput per wavelength\n",
        "      f_lam: filter throughput per wavlength\n",
        "      d_lam: detector response per wavlength\n",
        "      SNR: signal to noise ratio (either single value or array)\n",
        "      sig_rn: readout noise per pixel\n",
        "      Npix: number of pixels from aperture size\n",
        "\n",
        "      Returns\n",
        "      -------\n",
        "      t: exposure time\n",
        "      \"\"\"\n",
        "\n",
        "      #Solve for signal using quadratic formula\n",
        "      a = SNR**-2\n",
        "      b = -1\n",
        "      c = -Npix*sig_rn**2\n",
        "      sol = (-b + np.sqrt(b**2 - 4*a*c))/(2*a) #Always take positive value\n",
        "\n",
        "      #Compute time from this\n",
        "      t = S/(T*F_lam*a_lam*m_lam*i_lam*f_lam*d_lam)\n",
        "\n",
        "      return(t)\n"
      ],
      "metadata": {
        "id": "CWB4PPl3sb09"
      },
      "execution_count": null,
      "outputs": []
    },
    {
      "cell_type": "code",
      "source": [],
      "metadata": {
        "colab": {
          "base_uri": "https://localhost:8080/",
          "height": 42
        },
        "id": "rRUjX_n8uNRG",
        "outputId": "d09355f5-77b1-4782-bf13-33ee60e8744f"
      },
      "execution_count": null,
      "outputs": [
        {
          "output_type": "execute_result",
          "data": {
            "text/plain": [
              "<Quantity 1.51492899e+15 Angstrom erg / (Hz s sr cm2)>"
            ],
            "text/latex": "$1.514929 \\times 10^{15} \\; \\mathrm{\\frac{\\mathring{A}\\,erg}{Hz\\,s\\,sr\\,cm^{2}}}$"
          },
          "metadata": {},
          "execution_count": 47
        }
      ]
    },
    {
      "cell_type": "code",
      "source": [],
      "metadata": {
        "id": "lgc-r81q0Qv5"
      },
      "execution_count": null,
      "outputs": []
    }
  ]
}