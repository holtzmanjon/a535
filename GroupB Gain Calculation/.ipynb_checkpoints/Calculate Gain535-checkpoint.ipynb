{
 "cells": [
  {
   "cell_type": "code",
   "execution_count": 90,
   "id": "63947a7c",
   "metadata": {},
   "outputs": [],
   "source": [
    "# Importing the necessary packages\n",
    "import numpy as np\n",
    "import glob\n",
    "import matplotlib.pyplot as plt\n",
    "from astropy.io import fits\n",
    "from scipy.optimize import least_squares\n",
    "d = 'C:/Users/Tim/Downloads/'"
   ]
  },
  {
   "cell_type": "code",
   "execution_count": 91,
   "id": "b67dc9f0",
   "metadata": {},
   "outputs": [],
   "source": [
    "def bias_subtract(data):\n",
    "\n",
    "    '''\n",
    "    PURPOSE:\n",
    "            Subtract the overscan region from the data\n",
    "\n",
    "    INPUTS:\n",
    "               [data; np.array, float]:  The data to be bias subtracted\n",
    "\n",
    "    OUTPUTS:\n",
    "            [new_data; np.array, float]:  The bias subtracted data\n",
    "    '''\n",
    "\n",
    "    # Create a new array to hold the bias subtracted data\n",
    "    new_data = np.empty(data.shape)\n",
    "\n",
    "    # Loop over each column and subtract the median of the overscan region\n",
    "    for i in range(data.shape[1]):\n",
    "\n",
    "        # Get the overscan region for this column\n",
    "        overscan_data = data[-16:, i]\n",
    "\n",
    "        # Calculate the median of the overscan region\n",
    "        overscan_median = np.median(overscan_data)\n",
    "\n",
    "        # Subtract the median from the data\n",
    "        new_data[:, i] = data[:, i] - overscan_median \n",
    "\n",
    "    return new_data"
   ]
  },
  {
   "cell_type": "markdown",
   "id": "3d3cdb44",
   "metadata": {},
   "source": [
    "# Compute Master Flat"
   ]
  },
  {
   "cell_type": "code",
   "execution_count": 92,
   "id": "5af3d4d2",
   "metadata": {},
   "outputs": [
    {
     "name": "stdout",
     "output_type": "stream",
     "text": [
      "C:/Users/Tim/Downloads/flats\\CCD Image 518.fit\n",
      "C:/Users/Tim/Downloads/flats\\CCD Image 519.fit\n",
      "C:/Users/Tim/Downloads/flats\\CCD Image 520.fit\n",
      "C:/Users/Tim/Downloads/flats\\CCD Image 521.fit\n",
      "C:/Users/Tim/Downloads/flats\\CCD Image 522.fit\n"
     ]
    }
   ],
   "source": [
    "# Define the filter\n",
    "filter='SZ'\n",
    "\n",
    "files = glob.glob(d + 'flats/*')\n",
    "\n",
    "stack_array = None  \n",
    "\n",
    "for i, file in enumerate(files):\n",
    "    image = fits.open(file)\n",
    "    header = image[0].header\n",
    "\n",
    "    if header['FILTER'] != filter:\n",
    "        continue\n",
    "    print(file)\n",
    "    data = bias_subtract(image[0].data)\n",
    "    \n",
    "    if stack_array is None:\n",
    "        stack_array = data / np.nanmedian(data)\n",
    "    else:\n",
    "        stack_array = np.dstack((stack_array, data / np.nanmedian(data)))\n",
    "\n",
    "\n",
    "master_flat = np.nanmedian(stack_array, axis=2)"
   ]
  },
  {
   "cell_type": "markdown",
   "id": "c95b7516",
   "metadata": {},
   "source": [
    "# Flatten Flats"
   ]
  },
  {
   "cell_type": "code",
   "execution_count": 93,
   "id": "6a6f800f",
   "metadata": {},
   "outputs": [
    {
     "name": "stderr",
     "output_type": "stream",
     "text": [
      "C:\\Users\\Tim\\AppData\\Local\\Temp\\ipykernel_9528\\2796159858.py:10: RuntimeWarning: divide by zero encountered in true_divide\n",
      "  data = (bias_subtract(image[0].data))/master_flat\n",
      "C:\\Users\\Tim\\AppData\\Local\\Temp\\ipykernel_9528\\2796159858.py:10: RuntimeWarning: invalid value encountered in true_divide\n",
      "  data = (bias_subtract(image[0].data))/master_flat\n"
     ]
    }
   ],
   "source": [
    "data_cube = None  \n",
    "\n",
    "for i, file in enumerate(files):\n",
    "    image = fits.open(file)\n",
    "    header = image[0].header\n",
    "\n",
    "    if header['FILTER'] != filter:\n",
    "        continue\n",
    "\n",
    "    data = (bias_subtract(image[0].data))/master_flat\n",
    "    \n",
    "    if data_cube is None:\n",
    "        data_cube = data\n",
    "    else:\n",
    "        data_cube = np.dstack((data_cube, data))\n"
   ]
  },
  {
   "cell_type": "code",
   "execution_count": 94,
   "id": "00d5d85e",
   "metadata": {},
   "outputs": [
    {
     "data": {
      "text/plain": [
       "<matplotlib.image.AxesImage at 0x1f2b188a9d0>"
      ]
     },
     "execution_count": 94,
     "metadata": {},
     "output_type": "execute_result"
    },
    {
     "data": {
      "image/png": "[encoded data removed]",
      "text/plain": [
       "<Figure size 432x288 with 1 Axes>"
      ]
     },
     "metadata": {
      "needs_background": "light"
     },
     "output_type": "display_data"
    }
   ],
   "source": [
    "from matplotlib.colors import LogNorm\n",
    "plt.imshow(data_cube[:,:,0],norm=LogNorm())"
   ]
  },
  {
   "cell_type": "code",
   "execution_count": 95,
   "id": "7cda1d0b",
   "metadata": {},
   "outputs": [],
   "source": [
    "# Define the model function for a straight line (y = mx + b)\n",
    "def model(params, x):\n",
    "    m, b = params\n",
    "    return m * x + b\n",
    "\n",
    "# Define the objective function (sum of squares of residuals)\n",
    "def objective(params, x, y):\n",
    "    return model(params, x) - y"
   ]
  },
  {
   "cell_type": "code",
   "execution_count": 96,
   "id": "03af00bf",
   "metadata": {},
   "outputs": [
    {
     "data": {
      "image/png": "[encoded data removed]",
      "text/plain": [
       "<Figure size 432x288 with 1 Axes>"
      ]
     },
     "metadata": {
      "needs_background": "light"
     },
     "output_type": "display_data"
    }
   ],
   "source": [
    "# Create empty arrays for the variance and median\n",
    "variance_array = np.array([])\n",
    "median_array = np.array([])\n",
    "\n",
    "# Loop over all the files\n",
    "for i in range(data_cube.shape[2]):\n",
    "\n",
    "    # Calculate the variance and median\n",
    "    variance_array = np.append(variance_array, np.var(data_cube[2_000:2_500, 2_000:2_500, i]))\n",
    "    median_array = np.append(median_array, np.median(data_cube[2_000:2_500, 2_000:2_500, i]))\n",
    "\n",
    "# Initial guess for the parameters (slope and intercept)\n",
    "initial_guess = [1, 25_000]\n",
    "\n",
    "# Perform the optimization using least_squares\n",
    "result = least_squares(objective, initial_guess, args = (variance_array, median_array))\n",
    "\n",
    "# Extract the optimized parameters\n",
    "optimized_params = result.x\n",
    "\n",
    "# The optimized_params should contain the slope and intercept of the best-fit line\n",
    "gain, b = optimized_params\n",
    "\n",
    "# Get jacobian\n",
    "jacobian = result.jac\n",
    "\n",
    "# Calculate error on the slope and intercept\n",
    "error_gain, error_b = np.sqrt(np.diag(np.linalg.inv(jacobian.T.dot(jacobian))))\n",
    "\n",
    "# Plot the data\n",
    "plt.scatter(variance_array,median_array)\n",
    "plt.plot(np.linspace(variance_array.min() - 1000, variance_array.max() + 1_000, 100), \n",
    "         gain*np.linspace(variance_array.min() - 1_000, variance_array.max() + 1_000, 100) + b)\n",
    "plt.xlabel('Variance')\n",
    "plt.ylabel('Median')\n",
    "plt.title('Gain = {:.2f} +/- {:.2f}'.format(gain, error_gain))\n",
    "plt.show()"
   ]
  },
  {
   "cell_type": "code",
   "execution_count": null,
   "id": "d81535c7",
   "metadata": {},
   "outputs": [],
   "source": []
  }
 ],
 "metadata": {
  "kernelspec": {
   "display_name": "Python 3 (ipykernel)",
   "language": "python",
   "name": "python3"
  },
  "language_info": {
   "codemirror_mode": {
    "name": "ipython",
    "version": 3
   },
   "file_extension": ".py",
   "mimetype": "text/x-python",
   "name": "python",
   "nbconvert_exporter": "python",
   "pygments_lexer": "ipython3",
   "version": "3.9.12"
  }
 },
 "nbformat": 4,
 "nbformat_minor": 5
}
