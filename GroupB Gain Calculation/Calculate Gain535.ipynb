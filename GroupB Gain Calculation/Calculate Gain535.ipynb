{
 "cells": [
  {
   "cell_type": "code",
   "execution_count": 1,
   "id": "63947a7c",
   "metadata": {},
   "outputs": [],
   "source": [
    "# Importing the necessary packages\n",
    "import numpy as np\n",
    "import glob\n",
    "import matplotlib.pyplot as plt\n",
    "from astropy.io import fits\n",
    "from scipy.optimize import least_squares\n",
    "d = 'Downloads/'"
   ]
  },
  {
   "cell_type": "code",
   "execution_count": 2,
   "id": "b67dc9f0",
   "metadata": {},
   "outputs": [],
   "source": [
    "def bias_subtract(data):\n",
    "\n",
    "    '''\n",
    "    PURPOSE:\n",
    "            Subtract the overscan region from the data\n",
    "\n",
    "    INPUTS:\n",
    "               [data; np.array, float]:  The data to be bias subtracted\n",
    "\n",
    "    OUTPUTS:\n",
    "            [new_data; np.array, float]:  The bias subtracted data\n",
    "    '''\n",
    "\n",
    "    # Create a new array to hold the bias subtracted data\n",
    "    new_data = np.empty(data.shape)\n",
    "\n",
    "    # Loop over each column and subtract the median of the overscan region\n",
    "    for i in range(data.shape[1]):\n",
    "\n",
    "        # Get the overscan region for this column\n",
    "        overscan_data = data[-16:, i]\n",
    "\n",
    "        # Calculate the median of the overscan region\n",
    "        overscan_median = np.median(overscan_data)\n",
    "\n",
    "        # Subtract the median from the data\n",
    "        new_data[:, i] = data[:, i] - overscan_median \n",
    "\n",
    "    return new_data"
   ]
  },
  {
   "cell_type": "markdown",
   "id": "3d3cdb44",
   "metadata": {},
   "source": [
    "# Compute Master Flat"
   ]
  },
  {
   "cell_type": "code",
   "execution_count": 3,
   "id": "298934e3",
   "metadata": {},
   "outputs": [
    {
     "ename": "IndexError",
     "evalue": "list index out of range",
     "output_type": "error",
     "traceback": [
      "\u001b[0;31m---------------------------------------------------------------------------\u001b[0m",
      "\u001b[0;31mIndexError\u001b[0m                                Traceback (most recent call last)",
      "\u001b[1;32m/Users/juliomorales/Library/CloudStorage/GoogleDrive-juliomorales1823@gmail.com/My Drive/Graduate School/Classes/Techniques in Observation/a535/GroupB Gain Calculation/Calculate Gain535.ipynb Cell 4\u001b[0m line \u001b[0;36m8\n\u001b[1;32m      <a href='vscode-notebook-cell:/Users/juliomorales/Library/CloudStorage/GoogleDrive-juliomorales1823%40gmail.com/My%20Drive/Graduate%20School/Classes/Techniques%20in%20Observation/a535/GroupB%20Gain%20Calculation/Calculate%20Gain535.ipynb#W3sZmlsZQ%3D%3D?line=4'>5</a>\u001b[0m files \u001b[39m=\u001b[39m glob\u001b[39m.\u001b[39mglob(d \u001b[39m+\u001b[39m \u001b[39m'\u001b[39m\u001b[39mflats/*\u001b[39m\u001b[39m'\u001b[39m \u001b[39m+\u001b[39m \u001b[39mfilter\u001b[39m \u001b[39m+\u001b[39m \u001b[39m'\u001b[39m\u001b[39m*\u001b[39m\u001b[39m'\u001b[39m)\n\u001b[1;32m      <a href='vscode-notebook-cell:/Users/juliomorales/Library/CloudStorage/GoogleDrive-juliomorales1823%40gmail.com/My%20Drive/Graduate%20School/Classes/Techniques%20in%20Observation/a535/GroupB%20Gain%20Calculation/Calculate%20Gain535.ipynb#W3sZmlsZQ%3D%3D?line=6'>7</a>\u001b[0m \u001b[39m# Open the first file\u001b[39;00m\n\u001b[0;32m----> <a href='vscode-notebook-cell:/Users/juliomorales/Library/CloudStorage/GoogleDrive-juliomorales1823%40gmail.com/My%20Drive/Graduate%20School/Classes/Techniques%20in%20Observation/a535/GroupB%20Gain%20Calculation/Calculate%20Gain535.ipynb#W3sZmlsZQ%3D%3D?line=7'>8</a>\u001b[0m file \u001b[39m=\u001b[39m fits\u001b[39m.\u001b[39mopen(files[\u001b[39m0\u001b[39;49m])\n\u001b[1;32m     <a href='vscode-notebook-cell:/Users/juliomorales/Library/CloudStorage/GoogleDrive-juliomorales1823%40gmail.com/My%20Drive/Graduate%20School/Classes/Techniques%20in%20Observation/a535/GroupB%20Gain%20Calculation/Calculate%20Gain535.ipynb#W3sZmlsZQ%3D%3D?line=9'>10</a>\u001b[0m \u001b[39m# Get the data and header\u001b[39;00m\n\u001b[1;32m     <a href='vscode-notebook-cell:/Users/juliomorales/Library/CloudStorage/GoogleDrive-juliomorales1823%40gmail.com/My%20Drive/Graduate%20School/Classes/Techniques%20in%20Observation/a535/GroupB%20Gain%20Calculation/Calculate%20Gain535.ipynb#W3sZmlsZQ%3D%3D?line=10'>11</a>\u001b[0m data \u001b[39m=\u001b[39m file[\u001b[39m0\u001b[39m]\u001b[39m.\u001b[39mdata\n",
      "\u001b[0;31mIndexError\u001b[0m: list index out of range"
     ]
    }
   ],
   "source": [
    "# Define the filter\n",
    "filter = 'B'\n",
    "\n",
    "# Get the list of files\n",
    "files = glob.glob(d + 'flats/*' + filter + '*')\n",
    "\n",
    "# Open the first file\n",
    "file = fits.open(files[0])\n",
    "\n",
    "# Get the data and header\n",
    "data = file[0].data\n",
    "header = file[0].header\n",
    "\n",
    "# Get the image size\n",
    "imsize_y, imsize_x = data.shape\n",
    "\n",
    "# Create a data cube to hold all the data\n",
    "n = len(files)\n",
    "data_cube = np.zeros((imsize_y, imsize_x, n)) \n",
    "\n",
    "# Loop over all the files\n",
    "for i in range(len(files)):\n",
    "\n",
    "    # Open the file\n",
    "    file = fits.open(files[i])\n",
    "\n",
    "    # Get the data and header\n",
    "    data = file[0].data\n",
    "    header = file[0].header\n",
    "\n",
    "    # Bias subtract the data\n",
    "    new_data = bias_subtract(data)\n",
    "\n",
    "    # Normalize the data\n",
    "    new_data_normalized = new_data/np.nanmedian(new_data)\n",
    "\n",
    "    # Add the data to the data cube\n",
    "    data_cube[:,:,i] = new_data_normalized\n",
    "\n",
    "# Calculate the master flat\n",
    "master_flat = np.median(data_cube, axis = 2)\n",
    "\n",
    "# Write the master flat to a file\n",
    "fits.writeto('master_flat_' + filter + '.fits', master_flat, header = None, overwrite = True)"
   ]
  },
  {
   "cell_type": "markdown",
   "id": "c95b7516",
   "metadata": {},
   "source": [
    "# Flatten Flats"
   ]
  },
  {
   "cell_type": "code",
   "execution_count": null,
   "id": "6a6f800f",
   "metadata": {},
   "outputs": [
    {
     "name": "stderr",
     "output_type": "stream",
     "text": [
      "C:\\Users\\Tim\\AppData\\Local\\Temp\\ipykernel_8488\\2925031372.py:17: RuntimeWarning: divide by zero encountered in true_divide\n",
      "  new_data_normalized = new_data/master_flat\n",
      "C:\\Users\\Tim\\AppData\\Local\\Temp\\ipykernel_8488\\2925031372.py:17: RuntimeWarning: invalid value encountered in true_divide\n",
      "  new_data_normalized = new_data/master_flat\n"
     ]
    }
   ],
   "source": [
    "# Collect the flat files\n",
    "files = glob.glob(d + 'flats/*' + filter + '*')\n",
    "\n",
    "# Open the first file\n",
    "file = fits.open(files[0])\n",
    "\n",
    "# Get the data and header\n",
    "data = file[0].data\n",
    "header = file[0].header\n",
    "\n",
    "# Get the image size\n",
    "imsize_y, imsize_x = data.shape\n",
    "n = len(files)\n",
    "\n",
    "# Create a data cube to hold all the data\n",
    "data_cube = np.zeros((imsize_y, imsize_x , n)) \n",
    "\n",
    "# Loop over all the files\n",
    "for i in range(len(files)):\n",
    "\n",
    "    # Open the file\n",
    "    file = fits.open(files[i])\n",
    "\n",
    "    # Get the data and header\n",
    "    data = file[0].data\n",
    "    header = file[0].header\n",
    "\n",
    "    # Bias subtract the data\n",
    "    new_data = bias_subtract(data)\n",
    "\n",
    "    # Normalize the data\n",
    "    new_data_normalized = new_data/master_flat\n",
    "\n",
    "    # Add the data to the data cube\n",
    "    data_cube[:,:,i] = new_data_normalized"
   ]
  },
  {
   "cell_type": "code",
   "execution_count": null,
   "id": "7cda1d0b",
   "metadata": {},
   "outputs": [],
   "source": [
    "# Define the model function for a straight line (y = mx + b)\n",
    "def model(params, x):\n",
    "    m, b = params\n",
    "    return m * x + b\n",
    "\n",
    "# Define the objective function (sum of squares of residuals)\n",
    "def objective(params, x, y):\n",
    "    return model(params, x) - y"
   ]
  },
  {
   "cell_type": "code",
   "execution_count": null,
   "id": "03af00bf",
   "metadata": {},
   "outputs": [
    {
     "data": {
      "image/png": "[encoded data removed]",
      "text/plain": [
       "<Figure size 432x288 with 1 Axes>"
      ]
     },
     "metadata": {
      "needs_background": "light"
     },
     "output_type": "display_data"
    }
   ],
   "source": [
    "# Create empty arrays for the variance and median\n",
    "variance_array = np.array([])\n",
    "median_array = np.array([])\n",
    "\n",
    "# Loop over all the files\n",
    "for i in range(data_cube.shape[2]):\n",
    "\n",
    "    # Calculate the variance and median\n",
    "    variance_array = np.append(variance_array, np.var(data_cube[2_000:2_500, 2_000:2_500, i]))\n",
    "    median_array = np.append(median_array, np.median(data_cube[2_000:2_500, 2_000:2_500, i]))\n",
    "\n",
    "# Initial guess for the parameters (slope and intercept)\n",
    "initial_guess = [1, 25_000]\n",
    "\n",
    "# Perform the optimization using least_squares\n",
    "result = least_squares(objective, initial_guess, args = (variance_array, median_array))\n",
    "\n",
    "# Extract the optimized parameters\n",
    "optimized_params = result.x\n",
    "\n",
    "# The optimized_params should contain the slope and intercept of the best-fit line\n",
    "gain, b = optimized_params\n",
    "\n",
    "# Get jacobian\n",
    "jacobian = result.jac\n",
    "\n",
    "# Calculate error on the slope and intercept\n",
    "error_gain, error_b = np.sqrt(np.diag(np.linalg.inv(jacobian.T.dot(jacobian))))\n",
    "\n",
    "# Plot the data\n",
    "plt.scatter(variance_array,median_array)\n",
    "plt.plot(np.linspace(variance_array.min() - 1000, variance_array.max() + 1_000, 100), \n",
    "         gain*np.linspace(variance_array.min() - 1_000, variance_array.max() + 1_000, 100) + b)\n",
    "plt.xlabel('Variance')\n",
    "plt.ylabel('Median')\n",
    "plt.title('Gain = {:.2f} +/- {:.2f}'.format(gain, error_gain))\n",
    "plt.show()"
   ]
  }
 ],
 "metadata": {
  "kernelspec": {
   "display_name": "Python 3 (ipykernel)",
   "language": "python",
   "name": "python3"
  },
  "language_info": {
   "codemirror_mode": {
    "name": "ipython",
    "version": 3
   },
   "file_extension": ".py",
   "mimetype": "text/x-python",
   "name": "python",
   "nbconvert_exporter": "python",
   "pygments_lexer": "ipython3",
   "version": "3.10.10"
  }
 },
 "nbformat": 4,
 "nbformat_minor": 5
}
