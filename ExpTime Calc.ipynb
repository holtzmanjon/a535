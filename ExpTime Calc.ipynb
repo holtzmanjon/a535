{
 "cells": [
  {
   "cell_type": "code",
   "execution_count": 1,
   "id": "89561d52",
   "metadata": {},
   "outputs": [],
   "source": [
    "import astropy.units as u\n",
    "import astropy.constants as c\n",
    "from astropy.modeling.physical_models import BlackBody\n",
    "import numpy as np\n",
    "import matplotlib.pyplot as plt\n",
    "\n",
    "# Define SED class\n",
    "class SED:\n",
    "\n",
    "    # Initialize the class\n",
    "    def __init__(self, mag, temperature, temp_units, wave_start, wave_stop, wave_units):\n",
    "        \n",
    "        # Define variables\n",
    "        self.mag = mag\n",
    "        self.temperature = temperature\n",
    "\n",
    "        # Define the units of temperature\n",
    "        if temp_units == 'Kelvin':\n",
    "            self.temperature = self.temperature*u.K\n",
    "\n",
    "        # Define the wavelength range\n",
    "        self.wave_start = wave_start\n",
    "        self.wave_stop = wave_stop\n",
    "\n",
    "        # Define the units of wavelength\n",
    "        if wave_units == \"Angstrom\":\n",
    "            self.wave_start = self.wave_start*u.AA\n",
    "            self.wave_stop = self.wave_stop*u.AA\n",
    "\n",
    "    def create_spectrum(self):\n",
    "\n",
    "        '''\n",
    "        PURPOSE:\n",
    "                This function creates a blackbody spectrum based on the temperature and magnitude of the star.\n",
    "\n",
    "        INPUTS:\n",
    "                        [mag; float]: The magnitude of the star\n",
    "                [temperature; float]: The temperature of the star\n",
    "                 [wave_start; float]: The starting wavelength of the spectrum\n",
    "                  [wave_stop; float]: The ending wavelength of the spectrum\n",
    "\n",
    "        OUTPUTS:\n",
    "                          [wavelength; np.array, float]: The wavelength array of the blackbody spectrum\n",
    "                [normalized_spectrum,; np.array, float]: The normalized blackbody spectrum\n",
    "\n",
    "        AUTHOR:\n",
    "                Tim M. Sept. 1 2023.\n",
    "        '''\n",
    "\n",
    "        # Create the blackbody spectrum\n",
    "        blackbody_model = BlackBody(self.temperature, scale = 1*u.erg/u.s/u.cm**2/u.sr/u.AA)\n",
    "\n",
    "        # Normalize the spectrum\n",
    "        self.wavelength = np.linspace(self.wave_start, self.wave_stop, 100_000)\n",
    "\n",
    "        # Define the reference spectrum\n",
    "        self.model_spectrum = blackbody_model(self.wavelength)\n",
    "        \n",
    "        # Normalize the spectrum\n",
    "        ref_spectrum = BlackBody(temperature = 9_700*u.K, scale = 1*u.erg/u.s/u.cm**2/u.sr/u.AA)\n",
    "\n",
    "        # Normalize the spectrum\n",
    "        normalize = (3.63e-9*u.erg/u.cm**2/u.s/u.AA)/(ref_spectrum(5500*u.AA)*u.sr) \n",
    "\n",
    "        # Define the normalized spectrum\n",
    "        self.normalized_spectrum = self.model_spectrum*u.sr*normalize*10.**(-0.4*self.mag)\n",
    "        \n",
    "        return self.wavelength, self.normalized_spectrum\n",
    "    \n",
    "    def photon_spectrum(self):\n",
    "        '''\n",
    "        PURPOSE:\n",
    "            Create a photon spectrum\n",
    "        INPUTS:\n",
    "            Self\n",
    "        OUTPUTS:\n",
    "            photon_spectrum, an array in units of photons per second per cm^2 per Angstrom\n",
    "        '''\n",
    "        wavelength,normalized_spectrum = SED.create_spectrum(self)\n",
    "        \n",
    "        light_speed = c.c.to(u.cm/u.s)\n",
    "        h = c.h.to(u.erg*u.s)\n",
    "        \n",
    "        photon_spectrum = normalized_spectrum*(5500*u.AA.to(u.cm)*u.cm)/(h*light_speed)\n",
    "        return wavelength,photon_spectrum\n",
    "    \n",
    "    def plot(self, plot):\n",
    "\n",
    "        '''\n",
    "        PURPOSE:\n",
    "                This function plots the blackbody spectrum.\n",
    "\n",
    "        INPUTS:\n",
    "                [plot; string:  Type of plot\n",
    "\n",
    "        OUTPUTS:\n",
    "                Displays a plot of the blackbody spectrum.\n",
    "\n",
    "        AUTHOR:\n",
    "                Tim M. Sept. 1 2023.\n",
    "        '''\n",
    "\n",
    "        # Create normalized spectrum \n",
    "        if plot=='Flux Density':\n",
    "        \n",
    "            wavelength, spectrum = SED.create_spectrum(self)\n",
    "            fig,ax = plt.subplots(1, 1, figsize = (10, 8))\n",
    "            ax.set_xlabel('Wavelength ($\\AA$)')\n",
    "            ax.set_ylabel('Flux Density (ergs $s^{-1} cm^{-2} \\AA^{-1}$)')\n",
    "            ax.plot(wavelength, spectrum)\n",
    "            plt.show()\n",
    "        \n",
    "        if plot=='Photon Flux':\n",
    "            wavelength, spectrum = SED.photon_spectrum(self)\n",
    "            fig,ax = plt.subplots(1, 1, figsize = (10, 8))\n",
    "            ax.set_xlabel('Wavelength ($\\AA$)')\n",
    "            ax.set_ylabel('Flux Density (photons $s^{-1} cm^{-2} \\AA^{1})$')\n",
    "            ax.plot(wavelength, spectrum)\n",
    "            plt.show()\n",
    "        \n",
    "        return \n",
    "        \n",
    "class BandPass:\n",
    "\n",
    "    # Initialize the bandpass class\n",
    "    def __init__(self, filter):\n",
    "\n",
    "\n",
    "        # For the Johnson V filter\n",
    "        if filter == 'V':\n",
    "\n",
    "            # Define the wavelength range\n",
    "            self.filter_wavelength = np.arange(0, 10_000)\n",
    "\n",
    "            # Make the filter array of zeros\n",
    "            self.filter = np.zeros(len(self.filter_wavelength))\n",
    "\n",
    "            # Make a boxy filter response\n",
    "            index = np.where((self.filter_wavelength > 5075) & (self.filter_wavelength < 5925))\n",
    "            self.filter[index] = 1\n",
    "            \n",
    "    def convolve_SED(self, wavelength, normalized_spectrum):\n",
    "\n",
    "        ''' \n",
    "        PURPOSE:\n",
    "                Function that convolves the normalized spectrum with a filter response function.\n",
    "\n",
    "        INPUTS:\n",
    "                N/A\n",
    "\n",
    "        OUTPUTS:\n",
    "                [convolved_spectrum; np.array, float]:  Normalized spectrum convolved with the filter response.\n",
    "\n",
    "        AUTHOR:\n",
    "                Tim M. Sept. 1 2023.\n",
    "        '''\n",
    "\n",
    "        # Interpolate the filter response\n",
    "        interpolated_filter_values = np.interp(wavelength.value, self.filter_wavelength, self.filter)\n",
    "        \n",
    "        # Multiply the normalized spectrum by the interpolated filter values\n",
    "        convolved_spectrum = normalized_spectrum*interpolated_filter_values\n",
    "        \n",
    "        return convolved_spectrum\n",
    "    \n",
    "class Telescope:\n",
    "    '''\n",
    "    PURPOSE:\n",
    "        Define telescope parameters to determine collecting area\n",
    "    INPUTS:\n",
    "        diameter: diameter of primary mirror\n",
    "        units: units of length for diameter\n",
    "        \n",
    "            \n",
    "    '''\n",
    "    def __init__(self,diameter,units):\n",
    "        if units == 'cm':\n",
    "            self.diameter = diameter*u.cm\n",
    "        if units == 'm':\n",
    "            self.diameter = diameter*u.m.to(u.cm)*u.cm\n",
    "        if units == 'mm':\n",
    "            self.diameter = diameter*u.mm.to(u.cm)*u.cm\n",
    "    def calc_area(self):    \n",
    "        area = np.pi*(self.diameter/2)**2\n",
    "        return area\n",
    "    \n",
    "class atmosphere:\n",
    "    '''\n",
    "    PURPOSE:\n",
    "        Define absorption due to atmospheric conditions\n",
    "        \n",
    "    INPUTS:\n",
    "        quality: Either 'good' or 'bad' observing conditions\n",
    "    '''\n",
    "    \n",
    "    def __init__(self,quality):\n",
    "        if quality=='good':\n",
    "            self.atm = 0.8\n",
    "        if quality=='bad':\n",
    "            self.atm = 0.4\n",
    "    def get_atm(self):\n",
    "        atm = self.atm\n",
    "        return atm\n",
    "            \n",
    "class Detector:\n",
    "    def __init__(self,name):\n",
    "        self.name = name\n",
    "\n",
    "    def detector_efficiency(self):   \n",
    "    \n",
    "        if camera_cost == '$$$':\n",
    "            QE = 0.5\n",
    "        if camera_cost == '$':\n",
    "            QE = 0.08\n",
    "        return QE"
   ]
  },
  {
   "cell_type": "code",
   "execution_count": 2,
   "id": "ed25f38f",
   "metadata": {},
   "outputs": [
    {
     "name": "stderr",
     "output_type": "stream",
     "text": [
      "C:\\ProgramData\\Anaconda3\\lib\\site-packages\\astropy\\units\\quantity.py:611: RuntimeWarning: overflow encountered in expm1\n",
      "  result = super().__array_ufunc__(function, method, *arrays, **kwargs)\n",
      "C:\\ProgramData\\Anaconda3\\lib\\site-packages\\astropy\\units\\quantity.py:611: RuntimeWarning: overflow encountered in multiply\n",
      "  result = super().__array_ufunc__(function, method, *arrays, **kwargs)\n"
     ]
    },
    {
     "data": {
      "image/png": "[encoded data removed]",
      "text/plain": [
       "<Figure size 720x576 with 1 Axes>"
      ]
     },
     "metadata": {
      "needs_background": "light"
     },
     "output_type": "display_data"
    }
   ],
   "source": [
    "# Initialize the SED class\n",
    "model = SED(mag = 0, temperature = 9700, temp_units = 'Kelvin', wave_start = 1, wave_stop = 10_000, wave_units = 'Angstrom')\n",
    "\n",
    "# Create the spectrum\n",
    "wavelength,normalized_spectrum = model.create_spectrum()\n",
    "model.plot(plot='Photon Flux')"
   ]
  },
  {
   "cell_type": "code",
   "execution_count": 19,
   "id": "3215a2f7",
   "metadata": {},
   "outputs": [
    {
     "data": {
      "text/plain": [
       "Text(0, 0.5, 'Flux Density (photons $s^{-1} cm^{-2} \\\\AA^{1})$')"
      ]
     },
     "execution_count": 19,
     "metadata": {},
     "output_type": "execute_result"
    },
    {
     "data": {
      "image/png": "[encoded data removed]",
      "text/plain": [
       "<Figure size 432x288 with 1 Axes>"
      ]
     },
     "metadata": {
      "needs_background": "light"
     },
     "output_type": "display_data"
    }
   ],
   "source": [
    "photon_spectrum = model.photon_spectrum()\n",
    "\n",
    "plt.plot(wavelength,photon_spectrum)\n",
    "plt.xlabel('Wavelength $\\AA$')\n",
    "plt.ylabel('Flux Density (photons $s^{-1} cm^{-2} \\AA^{1})$')"
   ]
  },
  {
   "cell_type": "code",
   "execution_count": null,
   "id": "a2ae0449",
   "metadata": {},
   "outputs": [],
   "source": []
  },
  {
   "cell_type": "code",
   "execution_count": 20,
   "id": "071c2e5a",
   "metadata": {},
   "outputs": [
    {
     "data": {
      "text/plain": [
       "<matplotlib.legend.Legend at 0x1a008e8e040>"
      ]
     },
     "execution_count": 20,
     "metadata": {},
     "output_type": "execute_result"
    },
    {
     "data": {
      "image/png": "[encoded data removed]",
      "text/plain": [
       "<Figure size 432x288 with 1 Axes>"
      ]
     },
     "metadata": {
      "needs_background": "light"
     },
     "output_type": "display_data"
    }
   ],
   "source": [
    "# Initialize the BandPass class\n",
    "Vband = BandPass('V')\n",
    "\n",
    "# Convolve the spectrum with the filter response\n",
    "convolved_spectrum = Vband.convolve_SED(wavelength, photon_spectrum)\n",
    "\n",
    "# Plot the convolved spectrum\n",
    "plt.plot(wavelength,photon_spectrum,label='photon spectrum')\n",
    "plt.plot(Vband.filter_wavelength,Vband.filter*1200,label='filter bandpass')\n",
    "plt.plot(wavelength,convolved_spectrum,label='convolved spectrum')\n",
    "plt.legend()"
   ]
  },
  {
   "cell_type": "code",
   "execution_count": 21,
   "id": "77d23a12",
   "metadata": {},
   "outputs": [
    {
     "data": {
      "text/latex": [
       "$50.265482 \\; \\mathrm{cm^{2}}$"
      ],
      "text/plain": [
       "<Quantity 50.26548246 cm2>"
      ]
     },
     "execution_count": 21,
     "metadata": {},
     "output_type": "execute_result"
    }
   ],
   "source": [
    "timstelescope = Telescope(80,'mm')\n",
    "\n",
    "area = timstelescope.calc_area()\n",
    "\n",
    "area"
   ]
  },
  {
   "cell_type": "code",
   "execution_count": null,
   "id": "01714a94",
   "metadata": {},
   "outputs": [],
   "source": []
  }
 ],
 "metadata": {
  "kernelspec": {
   "display_name": "Python 3 (ipykernel)",
   "language": "python",
   "name": "python3"
  },
  "language_info": {
   "codemirror_mode": {
    "name": "ipython",
    "version": 3
   },
   "file_extension": ".py",
   "mimetype": "text/x-python",
   "name": "python",
   "nbconvert_exporter": "python",
   "pygments_lexer": "ipython3",
   "version": "3.9.12"
  }
 },
 "nbformat": 4,
 "nbformat_minor": 5
}
